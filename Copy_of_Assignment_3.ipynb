{
  "cells": [
    {
      "cell_type": "markdown",
      "metadata": {
        "id": "Y2VR5yE2Q1lD"
      },
      "source": [
        "# Preprocessing\n",
        "\n",
        "In this Assignment, we will be exploring how to preprocess tweets for sentiment analysis.\n"
      ]
    },
    {
      "cell_type": "code",
      "execution_count": null,
      "metadata": {
        "id": "Try8QG5xQ1lL"
      },
      "outputs": [],
      "source": [
        "import nltk                                # Python library for NLP\n",
        "from nltk.corpus import twitter_samples    # sample Twitter dataset from NLTK\n",
        "import matplotlib.pyplot as plt            # library for visualization\n",
        "import random                              # pseudo-random number generator"
      ]
    },
    {
      "cell_type": "markdown",
      "metadata": {
        "id": "puelnnDoQ1lM"
      },
      "source": [
        "## About the Twitter dataset\n",
        "\n",
        "The sample dataset from NLTK is separated into positive and negative tweets. It contains 5000 positive tweets and 5000 negative tweets exactly. The exact match between these classes is not a coincidence. The intention is to have a balanced dataset. That does not reflect the real distributions of positive and negative classes in live Twitter streams.\n",
        "\n"
      ]
    },
    {
      "cell_type": "code",
      "execution_count": null,
      "metadata": {
        "id": "zxKktlhMQ1lN",
        "colab": {
          "base_uri": "https://localhost:8080/"
        },
        "outputId": "f58f9586-2c2b-49ba-dd21-0d17fb5271e1"
      },
      "outputs": [
        {
          "output_type": "stream",
          "name": "stderr",
          "text": [
            "[nltk_data] Downloading package twitter_samples to /root/nltk_data...\n",
            "[nltk_data]   Package twitter_samples is already up-to-date!\n"
          ]
        },
        {
          "output_type": "execute_result",
          "data": {
            "text/plain": [
              "True"
            ]
          },
          "metadata": {},
          "execution_count": 28
        }
      ],
      "source": [
        "# downloads sample twitter dataset.\n",
        "nltk.download('twitter_samples')"
      ]
    },
    {
      "cell_type": "markdown",
      "metadata": {
        "id": "ZjWs6tqbQ1lN"
      },
      "source": [
        "We can load the text fields of the positive and negative tweets by using the module's `strings()` method like this:"
      ]
    },
    {
      "cell_type": "code",
      "execution_count": null,
      "metadata": {
        "id": "cCN9YKaCQ1lN"
      },
      "outputs": [],
      "source": [
        "# select the set of positive and negative tweets\n",
        "all_positive_tweets = twitter_samples.strings('positive_tweets.json')\n",
        "all_negative_tweets = twitter_samples.strings('negative_tweets.json')"
      ]
    },
    {
      "cell_type": "markdown",
      "metadata": {
        "id": "rfK_KjdIQ1lO"
      },
      "source": [
        "Next, we'll print a report with the number of positive and negative tweets. It is also essential to know the data structure of the datasets"
      ]
    },
    {
      "cell_type": "code",
      "execution_count": null,
      "metadata": {
        "id": "_XrygbufQ1lO",
        "colab": {
          "base_uri": "https://localhost:8080/"
        },
        "outputId": "57a848a5-bc4f-412b-b340-cbc025eef94f"
      },
      "outputs": [
        {
          "output_type": "stream",
          "name": "stdout",
          "text": [
            "Number of positive tweets:  5000\n",
            "Number of negative tweets:  5000\n",
            "\n",
            "The type of all_positive_tweets is:  <class 'list'>\n",
            "The type of a tweet entry is:  <class 'str'>\n",
            "hopeless for tmr :(\n"
          ]
        }
      ],
      "source": [
        "print('Number of positive tweets: ', len(all_positive_tweets))\n",
        "print('Number of negative tweets: ', len(all_negative_tweets))\n",
        "\n",
        "print('\\nThe type of all_positive_tweets is: ', type(all_positive_tweets))\n",
        "print('The type of a tweet entry is: ', type(all_negative_tweets[0]))\n",
        "print(all_negative_tweets[0])"
      ]
    },
    {
      "cell_type": "markdown",
      "metadata": {
        "id": "Y9SEd0krQ1lP"
      },
      "source": [
        "## Looking at raw texts\n",
        "\n",
        "\n",
        "\n",
        "Below, you will print one random positive and one random negative tweet."
      ]
    },
    {
      "cell_type": "code",
      "execution_count": null,
      "metadata": {
        "id": "x_4GnNOMQ1lP",
        "colab": {
          "base_uri": "https://localhost:8080/"
        },
        "outputId": "2a313129-1920-441e-e050-9930faba514b"
      },
      "outputs": [
        {
          "output_type": "stream",
          "name": "stdout",
          "text": [
            "#JabongatPumaUrbanStampede\n",
            "\n",
            "Ans.7&gt; Timely Arrival :)  \n",
            "\n",
            "@JabongIndia\n",
            "3 days without talking with Bae :(\n"
          ]
        }
      ],
      "source": [
        "print(all_positive_tweets[random.randint(0,5000)])\n",
        "print(all_negative_tweets[random.randint(0,5000)])"
      ]
    },
    {
      "cell_type": "markdown",
      "metadata": {
        "id": "VlhrXoUrQ1lQ"
      },
      "source": [
        "## Preprocess raw text for Sentiment analysis"
      ]
    },
    {
      "cell_type": "markdown",
      "metadata": {
        "id": "a3lDAfnMQ1lQ"
      },
      "source": [
        "Data preprocessing is one of the critical steps in any machine learning project. It includes cleaning and formatting the data before feeding into a machine learning algorithm. For NLP, the preprocessing steps are comprised of the following tasks:\n",
        "\n",
        "* Tokenizing the string\n",
        "* Lowercasing\n",
        "* Removing stop words and punctuation\n",
        "* Stemming\n",
        "\n",
        "\n"
      ]
    },
    {
      "cell_type": "code",
      "execution_count": null,
      "metadata": {
        "id": "bm6bNsrzQ1lQ",
        "colab": {
          "base_uri": "https://localhost:8080/"
        },
        "outputId": "5d61c6d8-9c55-4dfe-c1f2-b79ccb2f6307"
      },
      "outputs": [
        {
          "output_type": "stream",
          "name": "stdout",
          "text": [
            "My beautiful sunflowers on a sunny Friday morning off :) #sunflowers #favourites #happy #Friday off… https://t.co/3tfYom0N1i\n"
          ]
        }
      ],
      "source": [
        "# Our selected sample. Complex enough to exemplify each step\n",
        "tweet = all_positive_tweets[2277]\n",
        "print(tweet)"
      ]
    },
    {
      "cell_type": "markdown",
      "metadata": {
        "id": "YyZR0yYwQ1lQ"
      },
      "source": [
        "Let's import a few more libraries for this purpose."
      ]
    },
    {
      "cell_type": "code",
      "execution_count": null,
      "metadata": {
        "id": "tcviT9auQ1lR",
        "colab": {
          "base_uri": "https://localhost:8080/"
        },
        "outputId": "dd644061-c1c9-4a07-fa94-a0508807a644"
      },
      "outputs": [
        {
          "output_type": "stream",
          "name": "stderr",
          "text": [
            "[nltk_data] Downloading package stopwords to /root/nltk_data...\n",
            "[nltk_data]   Package stopwords is already up-to-date!\n"
          ]
        },
        {
          "output_type": "execute_result",
          "data": {
            "text/plain": [
              "True"
            ]
          },
          "metadata": {},
          "execution_count": 33
        }
      ],
      "source": [
        "# download the stopwords from NLTK\n",
        "nltk.download('stopwords')"
      ]
    },
    {
      "cell_type": "code",
      "execution_count": null,
      "metadata": {
        "id": "aT8QHMY5Q1lR"
      },
      "outputs": [],
      "source": [
        "import re                                  # library for regular expression operations\n",
        "import string                              # for string operations\n",
        "\n",
        "from nltk.corpus import stopwords          # module for stop words that come with NLTK\n",
        "from nltk.stem import PorterStemmer        # module for stemming\n",
        "from nltk.tokenize import TweetTokenizer   # module for tokenizing strings"
      ]
    },
    {
      "cell_type": "markdown",
      "metadata": {
        "id": "VG3ImX_IQ1lR"
      },
      "source": [
        "### Remove hyperlinks,  Twitter marks and styles\n",
        "\n",
        "Since we have a Twitter dataset, we'd like to remove some substrings commonly used on the platform like the hashtag, retweet marks, and hyperlinks. We'll use the [re](https://docs.python.org/3/library/re.html) library to perform regular expression operations on our tweet. We'll define our search pattern and use the `sub()` method to remove matches by substituting with an empty character (i.e. `''`)"
      ]
    },
    {
      "cell_type": "code",
      "execution_count": null,
      "metadata": {
        "scrolled": true,
        "id": "a5IcXDqkQ1lR",
        "colab": {
          "base_uri": "https://localhost:8080/"
        },
        "outputId": "597fa2ec-5880-40a2-990a-813c073b6fa2"
      },
      "outputs": [
        {
          "output_type": "stream",
          "name": "stdout",
          "text": [
            "My beautiful sunflowers on a sunny Friday morning off :) sunflowers favourites happy Friday off… \n"
          ]
        }
      ],
      "source": [
        "# remove old style retweet text \"RT\"\n",
        "tweet2 = re.sub(r'^RT[\\s]+', '', tweet)\n",
        "\n",
        "# remove hyperlinks\n",
        "tweet2 = re.sub(r'https?://[^\\s\\n\\r]+', '', tweet2)\n",
        "\n",
        "# remove hashtags\n",
        "# only removing the hash # sign from the word\n",
        "tweet2 = re.sub(r'#', '', tweet2)\n",
        "\n",
        "print(tweet2)"
      ]
    },
    {
      "cell_type": "markdown",
      "metadata": {
        "id": "pHn6jA0tQ1lR"
      },
      "source": [
        "### Tokenize the string\n",
        "\n",
        "To tokenize means to split the strings into individual words without blanks or tabs. In this same step, we will also convert each word in the string to lower case. The [tokenize](https://www.nltk.org/api/nltk.tokenize.html#module-nltk.tokenize.casual) module from NLTK allows us to do these easily:"
      ]
    },
    {
      "cell_type": "code",
      "execution_count": null,
      "metadata": {
        "id": "TzLGfUX3Q1lS",
        "colab": {
          "base_uri": "https://localhost:8080/"
        },
        "outputId": "d787904e-2036-4bb1-907f-a67cfb4a9b25"
      },
      "outputs": [
        {
          "output_type": "stream",
          "name": "stdout",
          "text": [
            "\n",
            "Tokenized string:\n",
            "['my', 'beautiful', 'sunflowers', 'on', 'a', 'sunny', 'friday', 'morning', 'off', ':)', 'sunflowers', 'favourites', 'happy', 'friday', 'off', '…']\n"
          ]
        }
      ],
      "source": [
        "# instantiate tokenizer class\n",
        "tokenizer = TweetTokenizer(preserve_case=False, strip_handles=True,\n",
        "                               reduce_len=True)\n",
        "\n",
        "# tokenize tweets\n",
        "tweet_tokens = tokenizer.tokenize(tweet2)\n",
        "\n",
        "print()\n",
        "print('Tokenized string:')\n",
        "print(tweet_tokens)"
      ]
    },
    {
      "cell_type": "markdown",
      "metadata": {
        "id": "tzhpto5LQ1lS"
      },
      "source": [
        "### Remove stop words and punctuations\n",
        "\n",
        "The next step is to remove stop words and punctuation. Stop words are words that don't add significant meaning to the text. You'll see the list provided by NLTK when you run the cells below."
      ]
    },
    {
      "cell_type": "code",
      "execution_count": null,
      "metadata": {
        "id": "hEuUul5rQ1lS",
        "colab": {
          "base_uri": "https://localhost:8080/"
        },
        "outputId": "027e68a5-a21b-4b4a-f8af-e3d7c0b42262"
      },
      "outputs": [
        {
          "output_type": "stream",
          "name": "stdout",
          "text": [
            "Stop words\n",
            "\n",
            "['i', 'me', 'my', 'myself', 'we', 'our', 'ours', 'ourselves', 'you', \"you're\", \"you've\", \"you'll\", \"you'd\", 'your', 'yours', 'yourself', 'yourselves', 'he', 'him', 'his', 'himself', 'she', \"she's\", 'her', 'hers', 'herself', 'it', \"it's\", 'its', 'itself', 'they', 'them', 'their', 'theirs', 'themselves', 'what', 'which', 'who', 'whom', 'this', 'that', \"that'll\", 'these', 'those', 'am', 'is', 'are', 'was', 'were', 'be', 'been', 'being', 'have', 'has', 'had', 'having', 'do', 'does', 'did', 'doing', 'a', 'an', 'the', 'and', 'but', 'if', 'or', 'because', 'as', 'until', 'while', 'of', 'at', 'by', 'for', 'with', 'about', 'against', 'between', 'into', 'through', 'during', 'before', 'after', 'above', 'below', 'to', 'from', 'up', 'down', 'in', 'out', 'on', 'off', 'over', 'under', 'again', 'further', 'then', 'once', 'here', 'there', 'when', 'where', 'why', 'how', 'all', 'any', 'both', 'each', 'few', 'more', 'most', 'other', 'some', 'such', 'no', 'nor', 'not', 'only', 'own', 'same', 'so', 'than', 'too', 'very', 's', 't', 'can', 'will', 'just', 'don', \"don't\", 'should', \"should've\", 'now', 'd', 'll', 'm', 'o', 're', 've', 'y', 'ain', 'aren', \"aren't\", 'couldn', \"couldn't\", 'didn', \"didn't\", 'doesn', \"doesn't\", 'hadn', \"hadn't\", 'hasn', \"hasn't\", 'haven', \"haven't\", 'isn', \"isn't\", 'ma', 'mightn', \"mightn't\", 'mustn', \"mustn't\", 'needn', \"needn't\", 'shan', \"shan't\", 'shouldn', \"shouldn't\", 'wasn', \"wasn't\", 'weren', \"weren't\", 'won', \"won't\", 'wouldn', \"wouldn't\"]\n",
            "\n",
            "Punctuation\n",
            "\n",
            "!\"#$%&'()*+,-./:;<=>?@[\\]^_`{|}~\n"
          ]
        }
      ],
      "source": [
        "#Import the english stop words list from NLTK\n",
        "stopwords_english = stopwords.words('english')\n",
        "\n",
        "print('Stop words\\n')\n",
        "print(stopwords_english)\n",
        "\n",
        "print('\\nPunctuation\\n')\n",
        "print(string.punctuation)"
      ]
    },
    {
      "cell_type": "markdown",
      "metadata": {
        "id": "CgLmDiBNQ1lS"
      },
      "source": [
        "We can see that the stop words list above contains some words that could be important in some contexts.\n",
        "\n",
        "\n",
        "Time to clean up our tokenized tweet!"
      ]
    },
    {
      "cell_type": "code",
      "execution_count": null,
      "metadata": {
        "id": "HNhIlrG1Q1lT",
        "colab": {
          "base_uri": "https://localhost:8080/"
        },
        "outputId": "66ef242d-b3ea-456c-bbc2-a44b5f109170"
      },
      "outputs": [
        {
          "output_type": "stream",
          "name": "stdout",
          "text": [
            "['my', 'beautiful', 'sunflowers', 'on', 'a', 'sunny', 'friday', 'morning', 'off', ':)', 'sunflowers', 'favourites', 'happy', 'friday', 'off', '…']\n",
            "removed stop words and punctuation:\n",
            "['beautiful', 'sunflowers', 'sunny', 'friday', 'morning', ':)', 'sunflowers', 'favourites', 'happy', 'friday', '…']\n"
          ]
        }
      ],
      "source": [
        "\n",
        "print(tweet_tokens)\n",
        "\n",
        "tweets_clean = []\n",
        "\n",
        "for word in tweet_tokens: # Go through every word in your tokens list\n",
        "    if (word not in stopwords_english and  # remove stopwords\n",
        "        word not in string.punctuation):  # remove punctuation\n",
        "        tweets_clean.append(word)\n",
        "\n",
        "print('removed stop words and punctuation:')\n",
        "print(tweets_clean)"
      ]
    },
    {
      "cell_type": "markdown",
      "metadata": {
        "id": "Lu-m6zZwQ1lT"
      },
      "source": [
        "Please note that the words **happy** and **sunny** in this list are correctly spelled."
      ]
    },
    {
      "cell_type": "markdown",
      "metadata": {
        "id": "aYU0Fo6vQ1lT"
      },
      "source": [
        "### Stemming\n",
        "\n",
        "Stemming is the process of converting a word to its most general form, or stem. This helps in reducing the size of our vocabulary.\n",
        "\n",
        "Consider the words:\n",
        " * **learn**\n",
        " * **learn**ing\n",
        " * **learn**ed\n",
        " * **learn**t\n",
        "\n",
        "All these words are stemmed from its common root **learn**. However, in some cases, the stemming process produces words that are not correct spellings of the root word. For example, **happi** and **sunni**. That's because it chooses the most common stem for related words. For example, we can look at the set of words that comprises the different forms of happy:\n",
        "\n",
        " * **happ**y\n",
        " * **happi**ness\n",
        " * **happi**er\n",
        "\n",
        "We can see that the prefix **happi** is more commonly used. We cannot choose **happ** because it is the stem of unrelated words like **happen**.\n",
        "\n",
        "NLTK has different modules for stemming and we will be using the [PorterStemmer](https://www.nltk.org/api/nltk.stem.html#module-nltk.stem.porter) module which uses the [Porter Stemming Algorithm](https://tartarus.org/martin/PorterStemmer/). Let's see how we can use it in the cell below."
      ]
    },
    {
      "cell_type": "code",
      "execution_count": null,
      "metadata": {
        "id": "dPUI2hi3Q1lT",
        "colab": {
          "base_uri": "https://localhost:8080/"
        },
        "outputId": "e3bad575-80d0-4148-d73c-e2b41b7674bb"
      },
      "outputs": [
        {
          "output_type": "stream",
          "name": "stdout",
          "text": [
            "['beautiful', 'sunflowers', 'sunny', 'friday', 'morning', ':)', 'sunflowers', 'favourites', 'happy', 'friday', '…']\n",
            "stemmed words:\n",
            "['beauti', 'sunflow', 'sunni', 'friday', 'morn', ':)', 'sunflow', 'favourit', 'happi', 'friday', '…']\n"
          ]
        }
      ],
      "source": [
        "\n",
        "print(tweets_clean)\n",
        "\n",
        "# Instantiate stemming class\n",
        "stemmer = PorterStemmer()\n",
        "\n",
        "# Create an empty list to store the stems\n",
        "tweets_stem = []\n",
        "\n",
        "for word in tweets_clean:\n",
        "    stem_word = stemmer.stem(word)  # stemming word\n",
        "    tweets_stem.append(stem_word)  # append to the list\n",
        "\n",
        "print('stemmed words:')\n",
        "print(tweets_stem)"
      ]
    },
    {
      "cell_type": "code",
      "source": [
        "processed_tweet=' '.join(tweets_stem)\n",
        "processed_tweet"
      ],
      "metadata": {
        "id": "-NlATHQ8z2Cc",
        "colab": {
          "base_uri": "https://localhost:8080/",
          "height": 35
        },
        "outputId": "34d4f42f-d816-4ac5-8e0d-50ba9568ca7a"
      },
      "execution_count": null,
      "outputs": [
        {
          "output_type": "execute_result",
          "data": {
            "text/plain": [
              "'beauti sunflow sunni friday morn :) sunflow favourit happi friday …'"
            ],
            "application/vnd.google.colaboratory.intrinsic+json": {
              "type": "string"
            }
          },
          "metadata": {},
          "execution_count": 40
        }
      ]
    },
    {
      "cell_type": "markdown",
      "metadata": {
        "id": "kXevPC2RQ1lU"
      },
      "source": [
        "That's it! Now we have a sentence which can be feed into to the next stage\n",
        "of our  project."
      ]
    },
    {
      "cell_type": "markdown",
      "source": [
        "."
      ],
      "metadata": {
        "id": "zBHp8KB83xz1"
      }
    },
    {
      "cell_type": "markdown",
      "source": [
        "PART 2: Sentimental Analysis"
      ],
      "metadata": {
        "id": "wlUUC5S33jMQ"
      }
    },
    {
      "cell_type": "code",
      "source": [
        "import numpy as np\n",
        "import pandas as pd\n",
        "nltk.download('twitter_samples')\n",
        "# select the lists of positive and negative tweets\n",
        "all_positive_tweets = twitter_samples.strings('positive_tweets.json')\n",
        "all_negative_tweets = twitter_samples.strings('negative_tweets.json')\n",
        "\n",
        "# concatenate the lists, 1st part is the positive tweets followed by the negative\n",
        "tweets = all_positive_tweets + all_negative_tweets"
      ],
      "metadata": {
        "id": "Ifa_z4zG3MH_",
        "colab": {
          "base_uri": "https://localhost:8080/"
        },
        "outputId": "92e2e923-a46c-47dc-b078-f47b6ee01a62"
      },
      "execution_count": null,
      "outputs": [
        {
          "output_type": "stream",
          "name": "stderr",
          "text": [
            "[nltk_data] Downloading package twitter_samples to /root/nltk_data...\n",
            "[nltk_data]   Package twitter_samples is already up-to-date!\n"
          ]
        }
      ]
    },
    {
      "cell_type": "code",
      "source": [
        "#print tweets here\n",
        "\n",
        "# print(len(tweets))\n",
        "\n",
        "for i in range (10000):\n",
        "  print(tweets[i])\n"
      ],
      "metadata": {
        "id": "P1qocwU-A_UO"
      },
      "execution_count": null,
      "outputs": []
    },
    {
      "cell_type": "code",
      "source": [
        "y=np.zeros(10000)\n",
        "for i in range(5000):\n",
        "  y[i]=1"
      ],
      "metadata": {
        "id": "VRQ9PKcs6gAy"
      },
      "execution_count": null,
      "outputs": []
    },
    {
      "cell_type": "markdown",
      "source": [
        "Now make a function and implement pre-processing into all tweets and then make an array that contains all processed tweets as strings."
      ],
      "metadata": {
        "id": "u28Un7Yc2w0x"
      }
    },
    {
      "cell_type": "code",
      "source": [
        "def process_tweet(tweet):\n",
        "    # Create a TweetTokenizer object\n",
        "    tokenizer = TweetTokenizer(preserve_case=False, strip_handles=True, reduce_len=True)\n",
        "\n",
        "    # Remove hyperlinks, Twitter handles, and special characters\n",
        "    tweet = re.sub(r'https?:\\/\\/\\S+|www\\.\\S+|@\\w+|#\\w+', '', tweet)\n",
        "    tweet = re.sub(r'\\W+', ' ', tweet)\n",
        "\n",
        "    tweet_tokens = tokenizer.tokenize(tweet)\n",
        "\n",
        "    # Remove stopwords and stem the tokens\n",
        "    stemmer = PorterStemmer()\n",
        "    stop_words = set(stopwords.words('english'))\n",
        "    processed_tweet = [stemmer.stem(token) for token in tweet_tokens if token not in stop_words and word not in string.punctuation]\n",
        "\n",
        "    return ' '.join(processed_tweet)"
      ],
      "metadata": {
        "id": "HLvmNbV_3W1z"
      },
      "execution_count": null,
      "outputs": []
    },
    {
      "cell_type": "code",
      "source": [
        "processed_tweets = np.array([process_tweet(tweet) for tweet in tweets])"
      ],
      "metadata": {
        "id": "3xoku7rjjiT7"
      },
      "execution_count": null,
      "outputs": []
    },
    {
      "cell_type": "markdown",
      "source": [
        "Now use **TfidfVectorizer** to vectorize your tweets into a numbered matrix\n",
        " **X**."
      ],
      "metadata": {
        "id": "zDYnvp9u4Rn3"
      }
    },
    {
      "cell_type": "code",
      "source": [
        "from sklearn.feature_extraction.text import TfidfVectorizer\n",
        "\n",
        "vectorizer = TfidfVectorizer()\n",
        "\n",
        "X = vectorizer.fit_transform(processed_tweets)\n",
        "\n",
        "# Convert the matrix to an array\n",
        "X = X.toarray()"
      ],
      "metadata": {
        "id": "hG2SOoi83bTd"
      },
      "execution_count": null,
      "outputs": []
    },
    {
      "cell_type": "code",
      "source": [
        "X.shape"
      ],
      "metadata": {
        "colab": {
          "base_uri": "https://localhost:8080/"
        },
        "id": "xtR0qX9SgESn",
        "outputId": "818af5fb-1c05-4b9b-a22f-ec2e00260c27"
      },
      "execution_count": null,
      "outputs": [
        {
          "output_type": "execute_result",
          "data": {
            "text/plain": [
              "(10000, 9037)"
            ]
          },
          "metadata": {},
          "execution_count": 47
        }
      ]
    },
    {
      "cell_type": "markdown",
      "source": [
        "Now you have a matrix **X** and **y** implement a model to classify this tweets.\n",
        "\n",
        "Note:\n",
        "\n",
        "1) You can use sequential models with tensorflow in which use 2 nodes in last layer.\n",
        "\n",
        "2) The node which has a higher value while using *model.predict* corresponds to the output.\n",
        "\n",
        "3) Use **SparseCategoricalCrossentropy** as a loss function."
      ],
      "metadata": {
        "id": "WyO-tSZl7n4_"
      }
    },
    {
      "cell_type": "code",
      "source": [
        "import tensorflow as tf\n",
        "from sklearn.model_selection import train_test_split\n",
        "\n",
        "X_train , X_test , y_train  , y_test  = train_test_split(X , y ,test_size = 0.2 , random_state = 42)\n"
      ],
      "metadata": {
        "id": "iyha1mVG7fgh"
      },
      "execution_count": null,
      "outputs": []
    },
    {
      "cell_type": "code",
      "source": [
        "model = tf.keras.Sequential([\n",
        "    tf.keras.layers.Dense(64 ,activation = 'relu' , input_shape =(X_train.shape[1],)),\n",
        "    tf.keras.layers.Dense(2 ,activation = 'softmax' )\n",
        "\n",
        "])"
      ],
      "metadata": {
        "id": "8cKJBJs5jyq-"
      },
      "execution_count": null,
      "outputs": []
    },
    {
      "cell_type": "code",
      "source": [
        "model.compile(optimizer ='adam' , loss = 'sparse_categorical_crossentropy', metrics=['accuracy'])"
      ],
      "metadata": {
        "id": "6XAuhldxj2iy"
      },
      "execution_count": null,
      "outputs": []
    },
    {
      "cell_type": "code",
      "source": [
        "history = model.fit(X_train, y_train, epochs=50, batch_size=32)"
      ],
      "metadata": {
        "colab": {
          "base_uri": "https://localhost:8080/"
        },
        "id": "OzM09WO5j4YL",
        "outputId": "54283936-b9fc-43fd-f831-072863ed850e"
      },
      "execution_count": null,
      "outputs": [
        {
          "output_type": "stream",
          "name": "stdout",
          "text": [
            "Epoch 1/50\n",
            "250/250 [==============================] - 3s 12ms/step - loss: 0.0695 - accuracy: 0.9707\n",
            "Epoch 2/50\n",
            "250/250 [==============================] - 4s 16ms/step - loss: 0.0664 - accuracy: 0.9711\n",
            "Epoch 3/50\n",
            "250/250 [==============================] - 3s 12ms/step - loss: 0.0642 - accuracy: 0.9732\n",
            "Epoch 4/50\n",
            "250/250 [==============================] - 3s 12ms/step - loss: 0.0622 - accuracy: 0.9726\n",
            "Epoch 5/50\n",
            "250/250 [==============================] - 3s 12ms/step - loss: 0.0614 - accuracy: 0.9726\n",
            "Epoch 6/50\n",
            "250/250 [==============================] - 4s 16ms/step - loss: 0.0593 - accuracy: 0.9725\n",
            "Epoch 7/50\n",
            "250/250 [==============================] - 3s 12ms/step - loss: 0.0584 - accuracy: 0.9741\n",
            "Epoch 8/50\n",
            "250/250 [==============================] - 3s 12ms/step - loss: 0.0562 - accuracy: 0.9746\n",
            "Epoch 9/50\n",
            "250/250 [==============================] - 3s 13ms/step - loss: 0.0549 - accuracy: 0.9754\n",
            "Epoch 10/50\n",
            "250/250 [==============================] - 4s 15ms/step - loss: 0.0529 - accuracy: 0.9775\n",
            "Epoch 11/50\n",
            "250/250 [==============================] - 3s 12ms/step - loss: 0.0523 - accuracy: 0.9768\n",
            "Epoch 12/50\n",
            "250/250 [==============================] - 3s 12ms/step - loss: 0.0514 - accuracy: 0.9768\n",
            "Epoch 13/50\n",
            "250/250 [==============================] - 3s 12ms/step - loss: 0.0500 - accuracy: 0.9761\n",
            "Epoch 14/50\n",
            "250/250 [==============================] - 4s 15ms/step - loss: 0.0486 - accuracy: 0.9774\n",
            "Epoch 15/50\n",
            "250/250 [==============================] - 3s 12ms/step - loss: 0.0490 - accuracy: 0.9766\n",
            "Epoch 16/50\n",
            "250/250 [==============================] - 3s 12ms/step - loss: 0.0477 - accuracy: 0.9783\n",
            "Epoch 17/50\n",
            "250/250 [==============================] - 3s 12ms/step - loss: 0.0465 - accuracy: 0.9786\n",
            "Epoch 18/50\n",
            "250/250 [==============================] - 5s 19ms/step - loss: 0.0461 - accuracy: 0.9786\n",
            "Epoch 19/50\n",
            "250/250 [==============================] - 3s 11ms/step - loss: 0.0455 - accuracy: 0.9789\n",
            "Epoch 20/50\n",
            "250/250 [==============================] - 3s 12ms/step - loss: 0.0446 - accuracy: 0.9787\n",
            "Epoch 21/50\n",
            "250/250 [==============================] - 3s 11ms/step - loss: 0.0459 - accuracy: 0.9783\n",
            "Epoch 22/50\n",
            "250/250 [==============================] - 4s 15ms/step - loss: 0.0436 - accuracy: 0.9789\n",
            "Epoch 23/50\n",
            "250/250 [==============================] - 3s 11ms/step - loss: 0.0438 - accuracy: 0.9765\n",
            "Epoch 24/50\n",
            "250/250 [==============================] - 3s 12ms/step - loss: 0.0435 - accuracy: 0.9786\n",
            "Epoch 25/50\n",
            "250/250 [==============================] - 3s 11ms/step - loss: 0.0432 - accuracy: 0.9789\n",
            "Epoch 26/50\n",
            "250/250 [==============================] - 4s 15ms/step - loss: 0.0418 - accuracy: 0.9795\n",
            "Epoch 27/50\n",
            "250/250 [==============================] - 3s 12ms/step - loss: 0.0423 - accuracy: 0.9794\n",
            "Epoch 28/50\n",
            "250/250 [==============================] - 3s 12ms/step - loss: 0.0415 - accuracy: 0.9805\n",
            "Epoch 29/50\n",
            "250/250 [==============================] - 4s 15ms/step - loss: 0.0418 - accuracy: 0.9785\n",
            "Epoch 30/50\n",
            "250/250 [==============================] - 4s 15ms/step - loss: 0.0414 - accuracy: 0.9784\n",
            "Epoch 31/50\n",
            "250/250 [==============================] - 3s 12ms/step - loss: 0.0407 - accuracy: 0.9787\n",
            "Epoch 32/50\n",
            "250/250 [==============================] - 3s 11ms/step - loss: 0.0406 - accuracy: 0.9796\n",
            "Epoch 33/50\n",
            "250/250 [==============================] - 3s 11ms/step - loss: 0.0407 - accuracy: 0.9795\n",
            "Epoch 34/50\n",
            "250/250 [==============================] - 4s 16ms/step - loss: 0.0400 - accuracy: 0.9800\n",
            "Epoch 35/50\n",
            "250/250 [==============================] - 3s 11ms/step - loss: 0.0396 - accuracy: 0.9805\n",
            "Epoch 36/50\n",
            "250/250 [==============================] - 3s 12ms/step - loss: 0.0410 - accuracy: 0.9800\n",
            "Epoch 37/50\n",
            "250/250 [==============================] - 3s 12ms/step - loss: 0.0396 - accuracy: 0.9794\n",
            "Epoch 38/50\n",
            "250/250 [==============================] - 4s 16ms/step - loss: 0.0393 - accuracy: 0.9804\n",
            "Epoch 39/50\n",
            "250/250 [==============================] - 3s 12ms/step - loss: 0.0388 - accuracy: 0.9808\n",
            "Epoch 40/50\n",
            "250/250 [==============================] - 3s 12ms/step - loss: 0.0394 - accuracy: 0.9800\n",
            "Epoch 41/50\n",
            "250/250 [==============================] - 3s 12ms/step - loss: 0.0385 - accuracy: 0.9809\n",
            "Epoch 42/50\n",
            "250/250 [==============================] - 4s 16ms/step - loss: 0.0387 - accuracy: 0.9794\n",
            "Epoch 43/50\n",
            "250/250 [==============================] - 3s 12ms/step - loss: 0.0376 - accuracy: 0.9799\n",
            "Epoch 44/50\n",
            "250/250 [==============================] - 3s 11ms/step - loss: 0.0387 - accuracy: 0.9810\n",
            "Epoch 45/50\n",
            "250/250 [==============================] - 3s 12ms/step - loss: 0.0387 - accuracy: 0.9794\n",
            "Epoch 46/50\n",
            "250/250 [==============================] - 4s 15ms/step - loss: 0.0377 - accuracy: 0.9810\n",
            "Epoch 47/50\n",
            "250/250 [==============================] - 3s 12ms/step - loss: 0.0374 - accuracy: 0.9801\n",
            "Epoch 48/50\n",
            "250/250 [==============================] - 3s 12ms/step - loss: 0.0374 - accuracy: 0.9801\n",
            "Epoch 49/50\n",
            "250/250 [==============================] - 3s 13ms/step - loss: 0.0372 - accuracy: 0.9809\n",
            "Epoch 50/50\n",
            "250/250 [==============================] - 4s 15ms/step - loss: 0.0366 - accuracy: 0.9814\n"
          ]
        }
      ]
    },
    {
      "cell_type": "code",
      "source": [
        "y_pred = model.predict(X_test)\n",
        "\n",
        "# To obtain the predicted labels by selecting the index with the highest value\n",
        "predicted_labels = tf.argmax(y_pred, axis=1).numpy()\n"
      ],
      "metadata": {
        "colab": {
          "base_uri": "https://localhost:8080/"
        },
        "id": "FDyTU4tHkQV-",
        "outputId": "10efc356-c375-4550-fd83-3e5757e6a16f"
      },
      "execution_count": null,
      "outputs": [
        {
          "output_type": "stream",
          "name": "stdout",
          "text": [
            "63/63 [==============================] - 0s 5ms/step\n"
          ]
        }
      ]
    },
    {
      "cell_type": "code",
      "source": [
        "# Access loss and accuracy values from the history\n",
        "loss = history.history['loss']\n",
        "accuracy = history.history['accuracy']\n"
      ],
      "metadata": {
        "id": "3GFATBzmkTks"
      },
      "execution_count": null,
      "outputs": []
    },
    {
      "cell_type": "code",
      "source": [
        "loss_mean = np.mean(loss)\n",
        "accuracy_mean=np.mean(accuracy)\n",
        "\n",
        "print(loss_mean)\n",
        "print(accuracy_mean)"
      ],
      "metadata": {
        "colab": {
          "base_uri": "https://localhost:8080/"
        },
        "id": "ln_8VWp4kWm5",
        "outputId": "1fcee2f7-0d12-4abe-e7c3-ae1a299251b4"
      },
      "execution_count": null,
      "outputs": [
        {
          "output_type": "stream",
          "name": "stdout",
          "text": [
            "0.04588483594357967\n",
            "0.9780300033092498\n"
          ]
        }
      ]
    }
  ],
  "metadata": {
    "kernelspec": {
      "display_name": "Python 3",
      "language": "python",
      "name": "python3"
    },
    "language_info": {
      "codemirror_mode": {
        "name": "ipython",
        "version": 3
      },
      "file_extension": ".py",
      "mimetype": "text/x-python",
      "name": "python",
      "nbconvert_exporter": "python",
      "pygments_lexer": "ipython3",
      "version": "3.7.6"
    },
    "colab": {
      "provenance": []
    }
  },
  "nbformat": 4,
  "nbformat_minor": 0
}