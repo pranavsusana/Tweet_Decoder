{
  "nbformat": 4,
  "nbformat_minor": 0,
  "metadata": {
    "colab": {
      "provenance": []
    },
    "kernelspec": {
      "name": "python3",
      "display_name": "Python 3"
    },
    "language_info": {
      "name": "python"
    }
  },
  "cells": [
    {
      "cell_type": "markdown",
      "source": [
        "**Click on File and save a copy in Drive.**"
      ],
      "metadata": {
        "id": "OFlA9PqYHnLD"
      }
    },
    {
      "cell_type": "markdown",
      "source": [
        "### **Aim**  \n",
        "The goal of this assignment is to make predictions using linear regression. We will be implementing the linear regression model from scratch. We have been provided with a hypothetical dataset of a company that wants to predict the price of a car. Our task is to build a linear regression model that can accurately predict the price of a car based on the given features in dataset.                                  \n",
        "**NOTE:** Data is hypothetical price of the car may be negative."
      ],
      "metadata": {
        "id": "RB2d1J1f1CF7"
      }
    },
    {
      "cell_type": "markdown",
      "source": [
        "Import Libraries."
      ],
      "metadata": {
        "id": "n66dPE0OpsVp"
      }
    },
    {
      "cell_type": "code",
      "source": [
        "#importing libraries\n",
        "import pandas as pd\n",
        "import numpy as np"
      ],
      "metadata": {
        "id": "CaY_sda_HdnP"
      },
      "execution_count": null,
      "outputs": []
    },
    {
      "cell_type": "markdown",
      "source": [
        "### Generating the dataset  \n",
        "Run the cell below to load the dataset."
      ],
      "metadata": {
        "id": "a_S80lf6H4Xv"
      }
    },
    {
      "cell_type": "code",
      "source": [
        "from google.colab import drive\n",
        "drive.mount('/content/drive')"
      ],
      "metadata": {
        "id": "UaUQy8ImHc9z",
        "colab": {
          "base_uri": "https://localhost:8080/"
        },
        "outputId": "6ffd0cfd-74b4-43cb-885b-7e4dc45b59b2"
      },
      "execution_count": null,
      "outputs": [
        {
          "output_type": "stream",
          "name": "stdout",
          "text": [
            "Mounted at /content/drive\n"
          ]
        }
      ]
    },
    {
      "cell_type": "code",
      "source": [
        "!gdown --id 1kjUHAjfl2FGx5tZ219EzyOJiAwTsqjbO"
      ],
      "metadata": {
        "id": "pbHQvbNqq6OQ",
        "colab": {
          "base_uri": "https://localhost:8080/"
        },
        "outputId": "5fcf178a-d406-4270-ff80-b06e77e9360c"
      },
      "execution_count": null,
      "outputs": [
        {
          "output_type": "stream",
          "name": "stdout",
          "text": [
            "/usr/local/lib/python3.9/dist-packages/gdown/cli.py:121: FutureWarning: Option `--id` was deprecated in version 4.3.1 and will be removed in 5.0. You don't need to pass it anymore to use a file ID.\n",
            "  warnings.warn(\n",
            "Downloading...\n",
            "From: https://drive.google.com/uc?id=1kjUHAjfl2FGx5tZ219EzyOJiAwTsqjbO\n",
            "To: /content/car_dataa.csv\n",
            "100% 34.2k/34.2k [00:00<00:00, 50.4MB/s]\n"
          ]
        }
      ]
    },
    {
      "cell_type": "code",
      "source": [
        "df=pd.read_csv('/content/car_dataa.csv')\n",
        "df"
      ],
      "metadata": {
        "id": "RRdj03aPHfrj",
        "colab": {
          "base_uri": "https://localhost:8080/",
          "height": 423
        },
        "outputId": "18855ab4-6205-4c7a-ec2f-8408f6ee46e4"
      },
      "execution_count": null,
      "outputs": [
        {
          "output_type": "execute_result",
          "data": {
            "text/plain": [
              "    Car_Name      Year  Selling_Price  Present_Price  Kms_Driven Fuel_Type  \\\n",
              "0       ritz -0.860155     -94.188683      -0.410123    0.612850    Petrol   \n",
              "1        sx4 -0.097043      15.276170       0.647960   -1.874549    Diesel   \n",
              "2       ciaz -0.402870      69.755387       0.457906    2.125322    Petrol   \n",
              "3    wagon r -0.480849     -61.144535      -0.079979    0.038635    Petrol   \n",
              "4      swift -2.223520     -40.620491       1.898574   -0.468699    Diesel   \n",
              "..       ...       ...            ...            ...         ...       ...   \n",
              "296     city  1.007247      20.693798      -1.083003   -0.229690    Diesel   \n",
              "297     brio  1.721243      87.938514      -0.859128    0.378223    Petrol   \n",
              "298     city -0.171465    -154.588890      -0.944369   -0.495819    Petrol   \n",
              "299     city -0.605274     171.969714       2.360360   -0.057051    Diesel   \n",
              "300     brio  1.812287      35.857232      -1.312873    0.155835    Petrol   \n",
              "\n",
              "    Seller_Type Transmission  Owner  \n",
              "0        Dealer       Manual      0  \n",
              "1        Dealer       Manual      0  \n",
              "2        Dealer       Manual      0  \n",
              "3        Dealer       Manual      0  \n",
              "4        Dealer       Manual      0  \n",
              "..          ...          ...    ...  \n",
              "296      Dealer       Manual      0  \n",
              "297      Dealer       Manual      0  \n",
              "298      Dealer       Manual      0  \n",
              "299      Dealer       Manual      0  \n",
              "300      Dealer       Manual      0  \n",
              "\n",
              "[301 rows x 9 columns]"
            ],
            "text/html": [
              "\n",
              "  <div id=\"df-cb8fbf15-10ee-4da2-a8e7-b58b21dfdb9f\">\n",
              "    <div class=\"colab-df-container\">\n",
              "      <div>\n",
              "<style scoped>\n",
              "    .dataframe tbody tr th:only-of-type {\n",
              "        vertical-align: middle;\n",
              "    }\n",
              "\n",
              "    .dataframe tbody tr th {\n",
              "        vertical-align: top;\n",
              "    }\n",
              "\n",
              "    .dataframe thead th {\n",
              "        text-align: right;\n",
              "    }\n",
              "</style>\n",
              "<table border=\"1\" class=\"dataframe\">\n",
              "  <thead>\n",
              "    <tr style=\"text-align: right;\">\n",
              "      <th></th>\n",
              "      <th>Car_Name</th>\n",
              "      <th>Year</th>\n",
              "      <th>Selling_Price</th>\n",
              "      <th>Present_Price</th>\n",
              "      <th>Kms_Driven</th>\n",
              "      <th>Fuel_Type</th>\n",
              "      <th>Seller_Type</th>\n",
              "      <th>Transmission</th>\n",
              "      <th>Owner</th>\n",
              "    </tr>\n",
              "  </thead>\n",
              "  <tbody>\n",
              "    <tr>\n",
              "      <th>0</th>\n",
              "      <td>ritz</td>\n",
              "      <td>-0.860155</td>\n",
              "      <td>-94.188683</td>\n",
              "      <td>-0.410123</td>\n",
              "      <td>0.612850</td>\n",
              "      <td>Petrol</td>\n",
              "      <td>Dealer</td>\n",
              "      <td>Manual</td>\n",
              "      <td>0</td>\n",
              "    </tr>\n",
              "    <tr>\n",
              "      <th>1</th>\n",
              "      <td>sx4</td>\n",
              "      <td>-0.097043</td>\n",
              "      <td>15.276170</td>\n",
              "      <td>0.647960</td>\n",
              "      <td>-1.874549</td>\n",
              "      <td>Diesel</td>\n",
              "      <td>Dealer</td>\n",
              "      <td>Manual</td>\n",
              "      <td>0</td>\n",
              "    </tr>\n",
              "    <tr>\n",
              "      <th>2</th>\n",
              "      <td>ciaz</td>\n",
              "      <td>-0.402870</td>\n",
              "      <td>69.755387</td>\n",
              "      <td>0.457906</td>\n",
              "      <td>2.125322</td>\n",
              "      <td>Petrol</td>\n",
              "      <td>Dealer</td>\n",
              "      <td>Manual</td>\n",
              "      <td>0</td>\n",
              "    </tr>\n",
              "    <tr>\n",
              "      <th>3</th>\n",
              "      <td>wagon r</td>\n",
              "      <td>-0.480849</td>\n",
              "      <td>-61.144535</td>\n",
              "      <td>-0.079979</td>\n",
              "      <td>0.038635</td>\n",
              "      <td>Petrol</td>\n",
              "      <td>Dealer</td>\n",
              "      <td>Manual</td>\n",
              "      <td>0</td>\n",
              "    </tr>\n",
              "    <tr>\n",
              "      <th>4</th>\n",
              "      <td>swift</td>\n",
              "      <td>-2.223520</td>\n",
              "      <td>-40.620491</td>\n",
              "      <td>1.898574</td>\n",
              "      <td>-0.468699</td>\n",
              "      <td>Diesel</td>\n",
              "      <td>Dealer</td>\n",
              "      <td>Manual</td>\n",
              "      <td>0</td>\n",
              "    </tr>\n",
              "    <tr>\n",
              "      <th>...</th>\n",
              "      <td>...</td>\n",
              "      <td>...</td>\n",
              "      <td>...</td>\n",
              "      <td>...</td>\n",
              "      <td>...</td>\n",
              "      <td>...</td>\n",
              "      <td>...</td>\n",
              "      <td>...</td>\n",
              "      <td>...</td>\n",
              "    </tr>\n",
              "    <tr>\n",
              "      <th>296</th>\n",
              "      <td>city</td>\n",
              "      <td>1.007247</td>\n",
              "      <td>20.693798</td>\n",
              "      <td>-1.083003</td>\n",
              "      <td>-0.229690</td>\n",
              "      <td>Diesel</td>\n",
              "      <td>Dealer</td>\n",
              "      <td>Manual</td>\n",
              "      <td>0</td>\n",
              "    </tr>\n",
              "    <tr>\n",
              "      <th>297</th>\n",
              "      <td>brio</td>\n",
              "      <td>1.721243</td>\n",
              "      <td>87.938514</td>\n",
              "      <td>-0.859128</td>\n",
              "      <td>0.378223</td>\n",
              "      <td>Petrol</td>\n",
              "      <td>Dealer</td>\n",
              "      <td>Manual</td>\n",
              "      <td>0</td>\n",
              "    </tr>\n",
              "    <tr>\n",
              "      <th>298</th>\n",
              "      <td>city</td>\n",
              "      <td>-0.171465</td>\n",
              "      <td>-154.588890</td>\n",
              "      <td>-0.944369</td>\n",
              "      <td>-0.495819</td>\n",
              "      <td>Petrol</td>\n",
              "      <td>Dealer</td>\n",
              "      <td>Manual</td>\n",
              "      <td>0</td>\n",
              "    </tr>\n",
              "    <tr>\n",
              "      <th>299</th>\n",
              "      <td>city</td>\n",
              "      <td>-0.605274</td>\n",
              "      <td>171.969714</td>\n",
              "      <td>2.360360</td>\n",
              "      <td>-0.057051</td>\n",
              "      <td>Diesel</td>\n",
              "      <td>Dealer</td>\n",
              "      <td>Manual</td>\n",
              "      <td>0</td>\n",
              "    </tr>\n",
              "    <tr>\n",
              "      <th>300</th>\n",
              "      <td>brio</td>\n",
              "      <td>1.812287</td>\n",
              "      <td>35.857232</td>\n",
              "      <td>-1.312873</td>\n",
              "      <td>0.155835</td>\n",
              "      <td>Petrol</td>\n",
              "      <td>Dealer</td>\n",
              "      <td>Manual</td>\n",
              "      <td>0</td>\n",
              "    </tr>\n",
              "  </tbody>\n",
              "</table>\n",
              "<p>301 rows × 9 columns</p>\n",
              "</div>\n",
              "      <button class=\"colab-df-convert\" onclick=\"convertToInteractive('df-cb8fbf15-10ee-4da2-a8e7-b58b21dfdb9f')\"\n",
              "              title=\"Convert this dataframe to an interactive table.\"\n",
              "              style=\"display:none;\">\n",
              "        \n",
              "  <svg xmlns=\"http://www.w3.org/2000/svg\" height=\"24px\"viewBox=\"0 0 24 24\"\n",
              "       width=\"24px\">\n",
              "    <path d=\"M0 0h24v24H0V0z\" fill=\"none\"/>\n",
              "    <path d=\"M18.56 5.44l.94 2.06.94-2.06 2.06-.94-2.06-.94-.94-2.06-.94 2.06-2.06.94zm-11 1L8.5 8.5l.94-2.06 2.06-.94-2.06-.94L8.5 2.5l-.94 2.06-2.06.94zm10 10l.94 2.06.94-2.06 2.06-.94-2.06-.94-.94-2.06-.94 2.06-2.06.94z\"/><path d=\"M17.41 7.96l-1.37-1.37c-.4-.4-.92-.59-1.43-.59-.52 0-1.04.2-1.43.59L10.3 9.45l-7.72 7.72c-.78.78-.78 2.05 0 2.83L4 21.41c.39.39.9.59 1.41.59.51 0 1.02-.2 1.41-.59l7.78-7.78 2.81-2.81c.8-.78.8-2.07 0-2.86zM5.41 20L4 18.59l7.72-7.72 1.47 1.35L5.41 20z\"/>\n",
              "  </svg>\n",
              "      </button>\n",
              "      \n",
              "  <style>\n",
              "    .colab-df-container {\n",
              "      display:flex;\n",
              "      flex-wrap:wrap;\n",
              "      gap: 12px;\n",
              "    }\n",
              "\n",
              "    .colab-df-convert {\n",
              "      background-color: #E8F0FE;\n",
              "      border: none;\n",
              "      border-radius: 50%;\n",
              "      cursor: pointer;\n",
              "      display: none;\n",
              "      fill: #1967D2;\n",
              "      height: 32px;\n",
              "      padding: 0 0 0 0;\n",
              "      width: 32px;\n",
              "    }\n",
              "\n",
              "    .colab-df-convert:hover {\n",
              "      background-color: #E2EBFA;\n",
              "      box-shadow: 0px 1px 2px rgba(60, 64, 67, 0.3), 0px 1px 3px 1px rgba(60, 64, 67, 0.15);\n",
              "      fill: #174EA6;\n",
              "    }\n",
              "\n",
              "    [theme=dark] .colab-df-convert {\n",
              "      background-color: #3B4455;\n",
              "      fill: #D2E3FC;\n",
              "    }\n",
              "\n",
              "    [theme=dark] .colab-df-convert:hover {\n",
              "      background-color: #434B5C;\n",
              "      box-shadow: 0px 1px 3px 1px rgba(0, 0, 0, 0.15);\n",
              "      filter: drop-shadow(0px 1px 2px rgba(0, 0, 0, 0.3));\n",
              "      fill: #FFFFFF;\n",
              "    }\n",
              "  </style>\n",
              "\n",
              "      <script>\n",
              "        const buttonEl =\n",
              "          document.querySelector('#df-cb8fbf15-10ee-4da2-a8e7-b58b21dfdb9f button.colab-df-convert');\n",
              "        buttonEl.style.display =\n",
              "          google.colab.kernel.accessAllowed ? 'block' : 'none';\n",
              "\n",
              "        async function convertToInteractive(key) {\n",
              "          const element = document.querySelector('#df-cb8fbf15-10ee-4da2-a8e7-b58b21dfdb9f');\n",
              "          const dataTable =\n",
              "            await google.colab.kernel.invokeFunction('convertToInteractive',\n",
              "                                                     [key], {});\n",
              "          if (!dataTable) return;\n",
              "\n",
              "          const docLinkHtml = 'Like what you see? Visit the ' +\n",
              "            '<a target=\"_blank\" href=https://colab.research.google.com/notebooks/data_table.ipynb>data table notebook</a>'\n",
              "            + ' to learn more about interactive tables.';\n",
              "          element.innerHTML = '';\n",
              "          dataTable['output_type'] = 'display_data';\n",
              "          await google.colab.output.renderOutput(dataTable, element);\n",
              "          const docLink = document.createElement('div');\n",
              "          docLink.innerHTML = docLinkHtml;\n",
              "          element.appendChild(docLink);\n",
              "        }\n",
              "      </script>\n",
              "    </div>\n",
              "  </div>\n",
              "  "
            ]
          },
          "metadata": {},
          "execution_count": 4
        }
      ]
    },
    {
      "cell_type": "markdown",
      "source": [
        "Delete Unwanted Columns like Car_Name, Fuel_Type, Seller_Type, Owner, Transmission. Use del function:- del df['Car_Name'] deletes that column."
      ],
      "metadata": {
        "id": "lCcyBNlVpyBZ"
      }
    },
    {
      "cell_type": "code",
      "source": [
        "del df['Car_Name']\n",
        "del df['Fuel_Type']\n",
        "del df['Seller_Type']\n",
        "del df['Owner']\n",
        "del df['Transmission']"
      ],
      "metadata": {
        "id": "JBbEglt6I-3i"
      },
      "execution_count": null,
      "outputs": []
    },
    {
      "cell_type": "markdown",
      "source": [
        "Take out Selling price as y and other column as X"
      ],
      "metadata": {
        "id": "kBuci9AnrZZC"
      }
    },
    {
      "cell_type": "code",
      "source": [
        "X = df.drop(['Selling_Price'],axis=1)\n",
        "y = df['Selling_Price']"
      ],
      "metadata": {
        "id": "Qa2YPiv4JZbO"
      },
      "execution_count": null,
      "outputs": []
    },
    {
      "cell_type": "code",
      "source": [
        "#Check the shape of X\n",
        "X.shape"
      ],
      "metadata": {
        "id": "dtSMrXpkJ0dG",
        "colab": {
          "base_uri": "https://localhost:8080/"
        },
        "outputId": "b54797fe-575b-40d0-d009-c4cafaa04200"
      },
      "execution_count": null,
      "outputs": [
        {
          "output_type": "execute_result",
          "data": {
            "text/plain": [
              "(301, 3)"
            ]
          },
          "metadata": {},
          "execution_count": 7
        }
      ]
    },
    {
      "cell_type": "code",
      "source": [
        "#Check the shape of y\n",
        "y.shape"
      ],
      "metadata": {
        "id": "S32jGhRBJ15O",
        "colab": {
          "base_uri": "https://localhost:8080/"
        },
        "outputId": "d9fb4ed2-0582-4d42-f7ac-0f7dff2f2d4c"
      },
      "execution_count": null,
      "outputs": [
        {
          "output_type": "execute_result",
          "data": {
            "text/plain": [
              "(301,)"
            ]
          },
          "metadata": {},
          "execution_count": 8
        }
      ]
    },
    {
      "cell_type": "code",
      "source": [
        "#print X and check\n",
        "X"
      ],
      "metadata": {
        "id": "4i1ttby8MFJa",
        "colab": {
          "base_uri": "https://localhost:8080/",
          "height": 423
        },
        "outputId": "49847781-0253-4355-e366-054c4c7e62e2"
      },
      "execution_count": null,
      "outputs": [
        {
          "output_type": "execute_result",
          "data": {
            "text/plain": [
              "         Year  Present_Price  Kms_Driven\n",
              "0   -0.860155      -0.410123    0.612850\n",
              "1   -0.097043       0.647960   -1.874549\n",
              "2   -0.402870       0.457906    2.125322\n",
              "3   -0.480849      -0.079979    0.038635\n",
              "4   -2.223520       1.898574   -0.468699\n",
              "..        ...            ...         ...\n",
              "296  1.007247      -1.083003   -0.229690\n",
              "297  1.721243      -0.859128    0.378223\n",
              "298 -0.171465      -0.944369   -0.495819\n",
              "299 -0.605274       2.360360   -0.057051\n",
              "300  1.812287      -1.312873    0.155835\n",
              "\n",
              "[301 rows x 3 columns]"
            ],
            "text/html": [
              "\n",
              "  <div id=\"df-69b59fdb-afb9-4356-88a8-dead311fd579\">\n",
              "    <div class=\"colab-df-container\">\n",
              "      <div>\n",
              "<style scoped>\n",
              "    .dataframe tbody tr th:only-of-type {\n",
              "        vertical-align: middle;\n",
              "    }\n",
              "\n",
              "    .dataframe tbody tr th {\n",
              "        vertical-align: top;\n",
              "    }\n",
              "\n",
              "    .dataframe thead th {\n",
              "        text-align: right;\n",
              "    }\n",
              "</style>\n",
              "<table border=\"1\" class=\"dataframe\">\n",
              "  <thead>\n",
              "    <tr style=\"text-align: right;\">\n",
              "      <th></th>\n",
              "      <th>Year</th>\n",
              "      <th>Present_Price</th>\n",
              "      <th>Kms_Driven</th>\n",
              "    </tr>\n",
              "  </thead>\n",
              "  <tbody>\n",
              "    <tr>\n",
              "      <th>0</th>\n",
              "      <td>-0.860155</td>\n",
              "      <td>-0.410123</td>\n",
              "      <td>0.612850</td>\n",
              "    </tr>\n",
              "    <tr>\n",
              "      <th>1</th>\n",
              "      <td>-0.097043</td>\n",
              "      <td>0.647960</td>\n",
              "      <td>-1.874549</td>\n",
              "    </tr>\n",
              "    <tr>\n",
              "      <th>2</th>\n",
              "      <td>-0.402870</td>\n",
              "      <td>0.457906</td>\n",
              "      <td>2.125322</td>\n",
              "    </tr>\n",
              "    <tr>\n",
              "      <th>3</th>\n",
              "      <td>-0.480849</td>\n",
              "      <td>-0.079979</td>\n",
              "      <td>0.038635</td>\n",
              "    </tr>\n",
              "    <tr>\n",
              "      <th>4</th>\n",
              "      <td>-2.223520</td>\n",
              "      <td>1.898574</td>\n",
              "      <td>-0.468699</td>\n",
              "    </tr>\n",
              "    <tr>\n",
              "      <th>...</th>\n",
              "      <td>...</td>\n",
              "      <td>...</td>\n",
              "      <td>...</td>\n",
              "    </tr>\n",
              "    <tr>\n",
              "      <th>296</th>\n",
              "      <td>1.007247</td>\n",
              "      <td>-1.083003</td>\n",
              "      <td>-0.229690</td>\n",
              "    </tr>\n",
              "    <tr>\n",
              "      <th>297</th>\n",
              "      <td>1.721243</td>\n",
              "      <td>-0.859128</td>\n",
              "      <td>0.378223</td>\n",
              "    </tr>\n",
              "    <tr>\n",
              "      <th>298</th>\n",
              "      <td>-0.171465</td>\n",
              "      <td>-0.944369</td>\n",
              "      <td>-0.495819</td>\n",
              "    </tr>\n",
              "    <tr>\n",
              "      <th>299</th>\n",
              "      <td>-0.605274</td>\n",
              "      <td>2.360360</td>\n",
              "      <td>-0.057051</td>\n",
              "    </tr>\n",
              "    <tr>\n",
              "      <th>300</th>\n",
              "      <td>1.812287</td>\n",
              "      <td>-1.312873</td>\n",
              "      <td>0.155835</td>\n",
              "    </tr>\n",
              "  </tbody>\n",
              "</table>\n",
              "<p>301 rows × 3 columns</p>\n",
              "</div>\n",
              "      <button class=\"colab-df-convert\" onclick=\"convertToInteractive('df-69b59fdb-afb9-4356-88a8-dead311fd579')\"\n",
              "              title=\"Convert this dataframe to an interactive table.\"\n",
              "              style=\"display:none;\">\n",
              "        \n",
              "  <svg xmlns=\"http://www.w3.org/2000/svg\" height=\"24px\"viewBox=\"0 0 24 24\"\n",
              "       width=\"24px\">\n",
              "    <path d=\"M0 0h24v24H0V0z\" fill=\"none\"/>\n",
              "    <path d=\"M18.56 5.44l.94 2.06.94-2.06 2.06-.94-2.06-.94-.94-2.06-.94 2.06-2.06.94zm-11 1L8.5 8.5l.94-2.06 2.06-.94-2.06-.94L8.5 2.5l-.94 2.06-2.06.94zm10 10l.94 2.06.94-2.06 2.06-.94-2.06-.94-.94-2.06-.94 2.06-2.06.94z\"/><path d=\"M17.41 7.96l-1.37-1.37c-.4-.4-.92-.59-1.43-.59-.52 0-1.04.2-1.43.59L10.3 9.45l-7.72 7.72c-.78.78-.78 2.05 0 2.83L4 21.41c.39.39.9.59 1.41.59.51 0 1.02-.2 1.41-.59l7.78-7.78 2.81-2.81c.8-.78.8-2.07 0-2.86zM5.41 20L4 18.59l7.72-7.72 1.47 1.35L5.41 20z\"/>\n",
              "  </svg>\n",
              "      </button>\n",
              "      \n",
              "  <style>\n",
              "    .colab-df-container {\n",
              "      display:flex;\n",
              "      flex-wrap:wrap;\n",
              "      gap: 12px;\n",
              "    }\n",
              "\n",
              "    .colab-df-convert {\n",
              "      background-color: #E8F0FE;\n",
              "      border: none;\n",
              "      border-radius: 50%;\n",
              "      cursor: pointer;\n",
              "      display: none;\n",
              "      fill: #1967D2;\n",
              "      height: 32px;\n",
              "      padding: 0 0 0 0;\n",
              "      width: 32px;\n",
              "    }\n",
              "\n",
              "    .colab-df-convert:hover {\n",
              "      background-color: #E2EBFA;\n",
              "      box-shadow: 0px 1px 2px rgba(60, 64, 67, 0.3), 0px 1px 3px 1px rgba(60, 64, 67, 0.15);\n",
              "      fill: #174EA6;\n",
              "    }\n",
              "\n",
              "    [theme=dark] .colab-df-convert {\n",
              "      background-color: #3B4455;\n",
              "      fill: #D2E3FC;\n",
              "    }\n",
              "\n",
              "    [theme=dark] .colab-df-convert:hover {\n",
              "      background-color: #434B5C;\n",
              "      box-shadow: 0px 1px 3px 1px rgba(0, 0, 0, 0.15);\n",
              "      filter: drop-shadow(0px 1px 2px rgba(0, 0, 0, 0.3));\n",
              "      fill: #FFFFFF;\n",
              "    }\n",
              "  </style>\n",
              "\n",
              "      <script>\n",
              "        const buttonEl =\n",
              "          document.querySelector('#df-69b59fdb-afb9-4356-88a8-dead311fd579 button.colab-df-convert');\n",
              "        buttonEl.style.display =\n",
              "          google.colab.kernel.accessAllowed ? 'block' : 'none';\n",
              "\n",
              "        async function convertToInteractive(key) {\n",
              "          const element = document.querySelector('#df-69b59fdb-afb9-4356-88a8-dead311fd579');\n",
              "          const dataTable =\n",
              "            await google.colab.kernel.invokeFunction('convertToInteractive',\n",
              "                                                     [key], {});\n",
              "          if (!dataTable) return;\n",
              "\n",
              "          const docLinkHtml = 'Like what you see? Visit the ' +\n",
              "            '<a target=\"_blank\" href=https://colab.research.google.com/notebooks/data_table.ipynb>data table notebook</a>'\n",
              "            + ' to learn more about interactive tables.';\n",
              "          element.innerHTML = '';\n",
              "          dataTable['output_type'] = 'display_data';\n",
              "          await google.colab.output.renderOutput(dataTable, element);\n",
              "          const docLink = document.createElement('div');\n",
              "          docLink.innerHTML = docLinkHtml;\n",
              "          element.appendChild(docLink);\n",
              "        }\n",
              "      </script>\n",
              "    </div>\n",
              "  </div>\n",
              "  "
            ]
          },
          "metadata": {},
          "execution_count": 11
        }
      ]
    },
    {
      "cell_type": "code",
      "source": [
        "# print y and check\n",
        "y"
      ],
      "metadata": {
        "id": "wQgCopUYLdxV",
        "colab": {
          "base_uri": "https://localhost:8080/"
        },
        "outputId": "8102f072-e4a8-41ea-d4f3-8235d16c239b"
      },
      "execution_count": null,
      "outputs": [
        {
          "output_type": "execute_result",
          "data": {
            "text/plain": [
              "0      -94.188683\n",
              "1       15.276170\n",
              "2       69.755387\n",
              "3      -61.144535\n",
              "4      -40.620491\n",
              "          ...    \n",
              "296     20.693798\n",
              "297     87.938514\n",
              "298   -154.588890\n",
              "299    171.969714\n",
              "300     35.857232\n",
              "Name: Selling_Price, Length: 301, dtype: float64"
            ]
          },
          "metadata": {},
          "execution_count": 12
        }
      ]
    },
    {
      "cell_type": "code",
      "source": [
        "#Divide data into train and test using train_test_split\n",
        "from sklearn import datasets\n",
        "from sklearn.model_selection import train_test_split\n",
        "X_train, X_test, y_train, y_test = train_test_split(X, y, test_size=0.2, random_state=1234)"
      ],
      "metadata": {
        "id": "yX0zqXcHIQHP"
      },
      "execution_count": null,
      "outputs": []
    },
    {
      "cell_type": "code",
      "source": [
        "#find shape of X\n",
        "X.shape"
      ],
      "metadata": {
        "id": "7z5E17YkG-z2",
        "colab": {
          "base_uri": "https://localhost:8080/"
        },
        "outputId": "adbd4eba-8246-41f6-cf36-1835205fce3f"
      },
      "execution_count": null,
      "outputs": [
        {
          "output_type": "execute_result",
          "data": {
            "text/plain": [
              "(301, 3)"
            ]
          },
          "metadata": {},
          "execution_count": 14
        }
      ]
    },
    {
      "cell_type": "code",
      "source": [
        "#find shape of y\n",
        "y.shape"
      ],
      "metadata": {
        "id": "caTTKrcTHBEQ",
        "colab": {
          "base_uri": "https://localhost:8080/"
        },
        "outputId": "c0ba0aed-dddc-420f-adba-3a2ebea81d21"
      },
      "execution_count": null,
      "outputs": [
        {
          "output_type": "execute_result",
          "data": {
            "text/plain": [
              "(301,)"
            ]
          },
          "metadata": {},
          "execution_count": 15
        }
      ]
    },
    {
      "cell_type": "markdown",
      "source": [
        "### Visualizing the data  \n",
        "Use `matplotlib` to visualize the given data."
      ],
      "metadata": {
        "id": "Zj4rrRXGJBXy"
      }
    },
    {
      "cell_type": "code",
      "source": [
        "import matplotlib.pyplot as plt\n",
        "\n",
        "\n",
        "# Your code here\n",
        "fig, axes = plt.subplots(1, 3, figsize=(10, 5))\n",
        "\n",
        "axes[0].scatter(X['Year'],y)\n",
        "axes[0].set_xlabel('Year')\n",
        "axes[0].set_ylabel('Selling price')\n",
        "axes[0].set_title('Year vs Selling Price')\n",
        "\n",
        "axes[1].scatter(X['Present_Price'],y)\n",
        "axes[1].set_xlabel('Present_Price')\n",
        "axes[1].set_ylabel('Selling price')\n",
        "axes[1].set_title('Present_Price vs Selling Price')\n",
        "\n",
        "axes[2].scatter(X['Kms_Driven'],y)\n",
        "axes[2].set_xlabel('Kms_Driven')\n",
        "axes[2].set_ylabel('Selling price')\n",
        "axes[2].set_title('Kms_Driven vs Selling Price')\n"
      ],
      "metadata": {
        "id": "zxfi8dkBJOUi",
        "colab": {
          "base_uri": "https://localhost:8080/",
          "height": 504
        },
        "outputId": "2ae91f0f-fede-4a03-8f2d-4c5c799fd916"
      },
      "execution_count": null,
      "outputs": [
        {
          "output_type": "execute_result",
          "data": {
            "text/plain": [
              "Text(0.5, 1.0, 'Kms_Driven vs Selling Price')"
            ]
          },
          "metadata": {},
          "execution_count": 16
        },
        {
          "output_type": "display_data",
          "data": {
            "text/plain": [
              "<Figure size 1000x500 with 3 Axes>"
            ],
            "image/png": "[encoded data removed]"
          },
          "metadata": {}
        }
      ]
    },
    {
      "cell_type": "markdown",
      "source": [
        "You should be able to see the linear relations between `y` and the features in vector `X`."
      ],
      "metadata": {
        "id": "r7vndSBAJceF"
      }
    },
    {
      "cell_type": "markdown",
      "source": [
        "### Gradient Descent Review  \n",
        "1. ####  Cost function\n",
        "Define the `cost function` to measure the difference between predictions and target outputs. Here, we are working with first degree polynomial, so derivatives are easy to calculate. ( Linear function `y = wx +b` )  \n",
        "\n",
        "$$Error = \\frac{1}{N}\\sum_{i=1}^N (y_i - \\overline{y}_i)^2 = \\frac{1}{N}\\sum_{i=1}^N (y_i - (x_iw+b))^2 $$  \n",
        "\n",
        "  where `N` is the number of samples  \n",
        "    \n",
        "\n",
        "\n",
        "2. #### Compute the derivative\n",
        "$$\\frac{\\delta Error}{\\delta w} = \\frac{2}{N}\\sum_{i=1}^N -x_i(y_i -(m  x_i +b ))  $$\n",
        "$$\\frac{\\delta Error}{\\delta b} = \\frac{2}{N}\\sum_{i=1}^N -(y_i -(m  x_i +b ))  $$\n",
        "3. <h4>Update current parameters</h4>\n",
        "$$ w:= w- learning\\_rate \\cdot \\frac{\\delta Error}{\\delta w}   $$\n",
        "$$ b:= b- learning\\_rate \\cdot \\frac{\\delta Error}{\\delta b}   $$\n",
        "4. <h4>Repeat until it fits good enough</h4>\n"
      ],
      "metadata": {
        "id": "b4I9Z3epNvBM"
      }
    },
    {
      "cell_type": "markdown",
      "source": [
        "### Model definition\n",
        "\n",
        "Complete the functions in the class below. Hints provided at appropriate places."
      ],
      "metadata": {
        "id": "kBtUcOVnJu-I"
      }
    },
    {
      "cell_type": "code",
      "source": [
        "import numpy as np\n",
        "\n",
        "class LinearRegression:\n",
        "\n",
        "    # The __init__ is called when we make any object of our class. Here, you are to specify the default values for\n",
        "    # Learning Rate, Number of Iterations, Weights and Biases. It doesn't return anything.\n",
        "    # Hint: Google what a `self pointer` is and figure out how it can be used here.\n",
        "    def __init__(self, learning_rate=0.001, n_iters=1000):\n",
        "        self.lr=learning_rate\n",
        "        self.n_iters=n_iters\n",
        "\n",
        "    # The following function would be the heart of the model. This is where the training would happen.\n",
        "    # You're supposed to iterate and keep on updating the weights and biases according to the steps of Gradient Descent.\n",
        "    def fit(self, X, y):\n",
        "\n",
        "        n_samples, n_features = X.shape\n",
        "\n",
        "        # init parameters\n",
        "        self.weights = np.zeros(n_features)\n",
        "        self.bias = 0\n",
        "\n",
        "        # gradient descent\n",
        "\n",
        "        for i in range(self.n_iters):\n",
        "         y_predicted = np.dot(X,self.weights) + self.bias\n",
        "\n",
        "         dw = (2/n_samples)*(np.dot(X.T,(y_predicted - y)))\n",
        "         db = (1 / n_samples) * np.sum(y_predicted - y)\n",
        "\n",
        "         self.weights = self.weights - self.lr * dw\n",
        "         self.bias = self.bias - self.lr * db\n",
        "\n",
        "\n",
        "\n",
        "\n",
        "\n",
        "\n",
        "    # This function will be called after our model has been trained and we are predicting on unseen data\n",
        "    # What is our prediction? Just return that\n",
        "    def predict(self, X):\n",
        "        y_approximated = np.dot(X , self.weights) + self.bias\n",
        "        return y_approximated\n",
        "\n",
        "\n",
        "\n",
        "\n",
        "\n"
      ],
      "metadata": {
        "id": "dGnFNPJx3I28"
      },
      "execution_count": null,
      "outputs": []
    },
    {
      "cell_type": "markdown",
      "source": [
        "### Initializing, Training & Predictions"
      ],
      "metadata": {
        "id": "EvyInkTKPn7W"
      }
    },
    {
      "cell_type": "code",
      "source": [
        "# Now, we make an object of our custom class.\n",
        "regressor = LinearRegression(learning_rate=0.01, n_iters=1000) # You may pass the custom parameters or let the default values take it ahead\n",
        "\n",
        "# Call the fit method on the object to train (pass appropriate part of dataset)\n",
        "regressor.fit( X_train, y_train)\n",
        "\n",
        "# Now, let's see our what our model predicts # pass appropriate part of dataset\n",
        "y_pred = regressor.predict(X_test)\n",
        ""
      ],
      "metadata": {
        "id": "nvItUpAkHTiv"
      },
      "execution_count": null,
      "outputs": []
    },
    {
      "cell_type": "markdown",
      "source": [
        "### Evaluate the model   \n",
        "\n",
        "Return [Mean Squared Error](https://en.wikipedia.org/wiki/Mean_squared_error) & [R2 Score](https://www.ncl.ac.uk/webtemplate/ask-assets/external/maths-resources/statistics/regression-and-correlation/coefficient-of-determination-r-squared.html#:~:text=%C2%AFy) from the functions below."
      ],
      "metadata": {
        "id": "tzK6cq8eRD4Q"
      }
    },
    {
      "cell_type": "code",
      "execution_count": null,
      "metadata": {
        "id": "J_QxgAEFhWMr",
        "colab": {
          "base_uri": "https://localhost:8080/"
        },
        "outputId": "dc7bedb4-7f6d-4262-c002-651ec6188f53"
      },
      "outputs": [
        {
          "output_type": "stream",
          "name": "stdout",
          "text": [
            "MSE: 318.2217111795415\n",
            "Accuracy: 0.9781242530345833\n"
          ]
        }
      ],
      "source": [
        "def mean_squared_error(y_true, y_pred):\n",
        "\n",
        "  mse = ((y_true - y_pred)**2).mean()\n",
        "  return mse\n",
        "\n",
        "\n",
        "def r2_score(y_true, y_pred):\n",
        "\n",
        "  ssr = ((y_true - y_pred)**2).sum()\n",
        "\n",
        "  y_mean = y_true.mean()\n",
        "  sst = ((y_true - y_mean)**2).sum()\n",
        "\n",
        "  r2 = 1 - (ssr/sst)\n",
        "\n",
        "    # return the r2 score\n",
        "  return r2\n",
        "\n",
        "\n",
        "mse =  mean_squared_error(y_test, y_pred)\n",
        "print(\"MSE:\", mse)\n",
        "\n",
        "accu = r2_score(y_test, y_pred)\n",
        "print(\"Accuracy:\", accu)"
      ]
    },
    {
      "cell_type": "code",
      "source": [
        "#Print first 10 values of prediction and y_test\n",
        "print(\"Y_test\\n\",y_test.head(10),\"\\n\")\n",
        "print(\"Y_preditions\\n\",pd.Series(y_pred).head(10))"
      ],
      "metadata": {
        "id": "mYHjSRSyP-KK",
        "colab": {
          "base_uri": "https://localhost:8080/"
        },
        "outputId": "1ff6b846-8c84-4677-ff11-9ba3a3957650"
      },
      "execution_count": null,
      "outputs": [
        {
          "output_type": "stream",
          "name": "stdout",
          "text": [
            "Y_test\n",
            " 92     125.948842\n",
            "162     21.541047\n",
            "225      1.227178\n",
            "155    -86.154698\n",
            "108    154.153259\n",
            "134      6.359070\n",
            "40     219.995546\n",
            "208   -139.070368\n",
            "270    167.017709\n",
            "106    -60.251874\n",
            "Name: Selling_Price, dtype: float64 \n",
            "\n",
            "Y_preditions\n",
            " 0    120.607753\n",
            "1     22.696771\n",
            "2    -13.907388\n",
            "3    -66.260223\n",
            "4    156.744556\n",
            "5     25.209152\n",
            "6    206.355089\n",
            "7   -152.483279\n",
            "8    153.217436\n",
            "9    -23.131819\n",
            "dtype: float64\n"
          ]
        }
      ]
    },
    {
      "cell_type": "markdown",
      "source": [
        "[Please click on this link to access subjective questions](https://docs.google.com/document/d/1wgM6qO6w1QQbcC74Wt58wlScT8uUa9U5rLdDNT99FXE/edit?usp=sharing)"
      ],
      "metadata": {
        "id": "9eaalBEZg8j1"
      }
    }
  ]
}
